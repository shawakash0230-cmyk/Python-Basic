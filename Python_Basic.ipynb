{
  "nbformat": 4,
  "nbformat_minor": 0,
  "metadata": {
    "colab": {
      "provenance": []
    },
    "kernelspec": {
      "name": "python3",
      "display_name": "Python 3"
    },
    "language_info": {
      "name": "python"
    }
  },
  "cells": [
    {
      "cell_type": "markdown",
      "source": [
        "#**Theoretical Questions**\n",
        "\n",
        "---\n",
        "\n"
      ],
      "metadata": {
        "id": "RxlxADsB4Cwj"
      }
    },
    {
      "cell_type": "markdown",
      "source": [
        "1. **What is Python, and why is it popular?**\n",
        "  - Created by Guido van Rossum in the late 1980s, Python was officially released in 1991. It is an interpreted, object-oriented language with dynamic semantics. Python emphasizes code readability, using indentation rather than braces, which makes it easier to learn and write.\n",
        "\n",
        "Python is popular because of:\n",
        "\n",
        "  a. Simplicity and readability\n",
        "\n",
        "  b. Versatility across domains\n",
        "\n",
        "  c. Massive ecosystem\n",
        "\n",
        "  d. Strong community support\n",
        "\n",
        "  e. Cross-platform compatibility\n",
        "  \n",
        "  f. Adoption by tech giants"
      ],
      "metadata": {
        "id": "u5v-WFrJ6zGD"
      }
    },
    {
      "cell_type": "markdown",
      "source": [
        "2. **What is an interpreter in Python?**\n",
        "  - A Python interpreter is the program that reads and executes Python code line by line, converting it into a form the computer can understand and run. It plays a crucial role in translating human-readable Python scripts into machine-executable instructions.\n"
      ],
      "metadata": {
        "id": "z3C6g2517Vgo"
      }
    },
    {
      "cell_type": "markdown",
      "source": [
        "3. **What are pre-defined keywords in Python?**\n",
        "- Pre-defined keywords in Python are reserved words that have special meaning in the language and cannot be used as variable names, function names, or identifiers. They define the syntax and structure of Python programs."
      ],
      "metadata": {
        "id": "4atKCFbr7yQY"
      }
    },
    {
      "cell_type": "markdown",
      "source": [
        "4. **Can keywords be used as variable names?**\n",
        "- No, keywords cannot be used as variable names in Python.\n",
        "\n",
        "   Keywords are reserved words that have special meaning in the language's syntax. Using them as variable names would confuse the interpreter and result in a syntax error.\n"
      ],
      "metadata": {
        "id": "UZcSF6Ig8rJL"
      }
    },
    {
      "cell_type": "markdown",
      "source": [
        "5. **What is mutability in Python?**\n",
        "- Mutability in Python refers to whether an object’s content can be changed after it is created. Mutable objects can be modified in place, while immutable objects cannot be altered once created."
      ],
      "metadata": {
        "id": "Ps8Qf3QS9kFy"
      }
    },
    {
      "cell_type": "markdown",
      "source": [
        "6. **Why are lists mutable, but tuples are immutable?**\n",
        "- Lists are mutable because they are designed for dynamic data manipulation, allowing changes like adding, removing, or updating elements. Tuples are immutable to ensure data integrity, optimize performance, and allow their use as keys in dictionaries."
      ],
      "metadata": {
        "id": "ZUN1IXcU-Jgo"
      }
    },
    {
      "cell_type": "markdown",
      "source": [
        "7. **What is the difference between “==” and “is” operators in Python?**\n",
        "- The “==” operator checks if two variables have the same value, while the “is” operator checks if they refer to the exact same object in memory."
      ],
      "metadata": {
        "id": "1zdfJdj3-uT_"
      }
    },
    {
      "cell_type": "markdown",
      "source": [
        "8.  **What are logical operators in Python?**\n",
        "- Logical operators in Python are used to combine or manipulate Boolean expressions, allowing you to control the flow of your program based on multiple conditions. The three main logical operators are and, or, and not."
      ],
      "metadata": {
        "id": "1YOr5BLj_H6H"
      }
    },
    {
      "cell_type": "markdown",
      "source": [
        "9. **What is type casting in Python?**\n",
        "- Type casting in Python is the process of converting a variable from one data type to another, either automatically (implicit) or manually (explicit), to ensure compatibility or achieve desired behavior in operations."
      ],
      "metadata": {
        "id": "wmpRgFka_15j"
      }
    },
    {
      "cell_type": "markdown",
      "source": [
        "10. **What is the difference between implicit and explicit type casting?**\n",
        "- The difference between implicit and explicit type casting in Python lies in who initiates the conversion and how it's handled.\n",
        "\n",
        "**Implicit Type Casting:**\n",
        "\n",
        "a. Performed automatically by Python.\n",
        "\n",
        "b. Happens when Python promotes one data type to another during operations to avoid data loss.\n",
        "\n",
        "c. Common in arithmetic operations involving mixed types.\n",
        "\n",
        "**Explicit Type Casting:**\n",
        "\n",
        "a. Manually done by the programmer.\n",
        "\n",
        "b. Uses built-in functions like int(), float(), str(), bool() to convert data types.\n",
        "\n",
        "c. Gives you control over how and when conversion happens.\n"
      ],
      "metadata": {
        "id": "AAqC70PqB1fZ"
      }
    },
    {
      "cell_type": "markdown",
      "source": [
        "11. **What is the purpose of conditional statements in Python?**\n",
        "- Conditional statements in Python are used to control the flow of a program by executing specific blocks of code only when certain conditions are met. They allow your program to make decisions and respond dynamically to different inputs or states."
      ],
      "metadata": {
        "id": "tAMzN_K-DNsZ"
      }
    },
    {
      "cell_type": "markdown",
      "source": [
        "12. **How does the elif statement work?**\n",
        "- The \"elif\" statement in Python stands for \"else if\" and is used to check multiple conditions in sequence after an initial \"if\" statement. It allows your program to respond differently depending on which condition is true, without nesting multiple \"if\" statements."
      ],
      "metadata": {
        "id": "3q36G5qXIF4i"
      }
    },
    {
      "cell_type": "markdown",
      "source": [
        "13. **What is the difference between for and while loops?**\n",
        "- The key difference is that a \"for\" loop is used when you know in advance how many times you want to iterate, while a \"while\" loop is used when the number of iterations depends on a condition that may change during execution."
      ],
      "metadata": {
        "id": "E2hiH7E2I2N3"
      }
    },
    {
      "cell_type": "markdown",
      "source": [
        "14. **Describe a scenario where a while loop is more suitable than a for loop.**\n",
        "- A \"while\" loop is more suitable than a \"for\" loop when the number of iterations is not known in advance and depends on a changing condition.\n",
        "\n",
        "Here's a classic scenario:\n",
        "\n",
        "Imagine you're building a simple ATM interface that asks the user to enter their PIN. The system should keep prompting until the correct PIN is entered or the user exceeds three attempts.\n",
        "\n",
        "**Python Code:**\n",
        "\n",
        "correct_pin = \"1234\"\n",
        "\n",
        "attempts = 0\n",
        "\n",
        "max_attempts = 3\n",
        "\n",
        "while attempts < max_attempts:\n",
        "    entered_pin = input(\"Enter your PIN: \")\n",
        "\n",
        "    if entered_pin == correct_pin:\n",
        "\n",
        "        print(\"Access granted.\")\n",
        "\n",
        "        break\n",
        "    else:\n",
        "        print(\"Incorrect PIN.\")\n",
        "        attempts += 1\n",
        "        \n",
        "    if attempts == max_attempts:\n",
        "\n",
        "    print(\"Account locked due to too many failed attempts.\")\n",
        "\n"
      ],
      "metadata": {
        "id": "Styn7aniJQO_"
      }
    },
    {
      "cell_type": "markdown",
      "source": [],
      "metadata": {
        "id": "lD8aTZNcOACQ"
      }
    },
    {
      "cell_type": "markdown",
      "source": [
        "#Practical Questions\n",
        "\n",
        "---\n",
        "\n"
      ],
      "metadata": {
        "id": "RJIE6RdYNpA3"
      }
    },
    {
      "cell_type": "markdown",
      "source": [
        "1. **Write a Python program to print \"Hello, World!\"**"
      ],
      "metadata": {
        "id": "9pKEh3kgNwa2"
      }
    },
    {
      "cell_type": "code",
      "source": [
        "print(\"Hello, World!\")"
      ],
      "metadata": {
        "colab": {
          "base_uri": "https://localhost:8080/"
        },
        "id": "y3b7U90pN1qo",
        "outputId": "12c27bf3-48b3-4b9e-dac4-3cc559f86cb5"
      },
      "execution_count": null,
      "outputs": [
        {
          "output_type": "stream",
          "name": "stdout",
          "text": [
            "Hello, World!\n"
          ]
        }
      ]
    },
    {
      "cell_type": "markdown",
      "source": [
        "2. **Write a Python program that displays your name and age?**"
      ],
      "metadata": {
        "id": "ightsm_9OFjQ"
      }
    },
    {
      "cell_type": "code",
      "source": [
        "name = \"Akash Shaw\"\n",
        "age = 29\n",
        "\n",
        "print(\"Name:\", name)\n",
        "print(\"Age:\", age)"
      ],
      "metadata": {
        "colab": {
          "base_uri": "https://localhost:8080/"
        },
        "id": "2kS0GSr5PSMu",
        "outputId": "8959da6b-e675-453a-d418-a30bdb82d97b"
      },
      "execution_count": null,
      "outputs": [
        {
          "output_type": "stream",
          "name": "stdout",
          "text": [
            "Name: Akash Shaw\n",
            "Age: 29\n"
          ]
        }
      ]
    },
    {
      "cell_type": "markdown",
      "source": [
        "3. **Write code to print all the pre-defined keywords in Python using the keyword library.**"
      ],
      "metadata": {
        "id": "Hp5VNngUQTjI"
      }
    },
    {
      "cell_type": "code",
      "source": [
        "import keyword\n",
        "\n",
        "all_keywords = keyword.kwlist\n",
        "print(all_keywords)"
      ],
      "metadata": {
        "colab": {
          "base_uri": "https://localhost:8080/"
        },
        "id": "CWASGsuPUZ1h",
        "outputId": "290c277e-b65b-4fd1-bd49-b1cc9c49a670"
      },
      "execution_count": null,
      "outputs": [
        {
          "output_type": "stream",
          "name": "stdout",
          "text": [
            "['False', 'None', 'True', 'and', 'as', 'assert', 'async', 'await', 'break', 'class', 'continue', 'def', 'del', 'elif', 'else', 'except', 'finally', 'for', 'from', 'global', 'if', 'import', 'in', 'is', 'lambda', 'nonlocal', 'not', 'or', 'pass', 'raise', 'return', 'try', 'while', 'with', 'yield']\n"
          ]
        }
      ]
    },
    {
      "cell_type": "markdown",
      "source": [
        "4. **Write a program that checks if a given word is a Python keyword.**"
      ],
      "metadata": {
        "id": "VwG0m1P7VX64"
      }
    },
    {
      "cell_type": "code",
      "source": [
        "import keyword\n",
        "word = input(\"Enter a word: \")\n",
        "\n",
        "if keyword.iskeyword(word):\n",
        "    print(f\"{word} is a Python keyword.\")\n",
        "else:\n",
        "    print(f\"{word} is not a Python keyword.\")"
      ],
      "metadata": {
        "colab": {
          "base_uri": "https://localhost:8080/"
        },
        "id": "-eFxyQr1VgPn",
        "outputId": "e74dbcde-1543-46b0-fe76-9b64925e0b88"
      },
      "execution_count": null,
      "outputs": [
        {
          "output_type": "stream",
          "name": "stdout",
          "text": [
            "Enter a word: 2\n",
            "2 is not a Python keyword.\n"
          ]
        }
      ]
    },
    {
      "cell_type": "markdown",
      "source": [
        "5. **Create a list and tuple in Python, and demonstrate how attempting to change an element works differently for each.**\n",
        "\n"
      ],
      "metadata": {
        "id": "s5RMjw2yWuQA"
      }
    },
    {
      "cell_type": "code",
      "source": [
        "my_list = [10, 20, 30]\n",
        "my_list[1] = 99\n",
        "print(\"modified list:\",my_list)"
      ],
      "metadata": {
        "colab": {
          "base_uri": "https://localhost:8080/"
        },
        "id": "UxwazrJJW4B2",
        "outputId": "b712ab7f-fdf7-41bb-8e5a-a14561bd687e"
      },
      "execution_count": null,
      "outputs": [
        {
          "output_type": "stream",
          "name": "stdout",
          "text": [
            "modified list: [10, 99, 30]\n"
          ]
        }
      ]
    },
    {
      "cell_type": "code",
      "source": [
        "my_tuple = (10, 20, 30)\n",
        "\n",
        "try:\n",
        "  my_tuple[1] = 99\n",
        "except TypeError as e:\n",
        "  print(\"Error modifying tuple:\", e)"
      ],
      "metadata": {
        "colab": {
          "base_uri": "https://localhost:8080/"
        },
        "id": "vtoA2pWIYofO",
        "outputId": "931551c1-b593-4c53-b036-45d9598e4b92"
      },
      "execution_count": null,
      "outputs": [
        {
          "output_type": "stream",
          "name": "stdout",
          "text": [
            "Error modifying tuple: 'tuple' object does not support item assignment\n"
          ]
        }
      ]
    },
    {
      "cell_type": "markdown",
      "source": [
        "6. **Write a function to demonstrate the behavior of mutable and immutable arguments.**"
      ],
      "metadata": {
        "id": "33KKSkQaZxGH"
      }
    },
    {
      "cell_type": "code",
      "source": [
        "def modify_arguments(mutable_list, immmutable_tuple):\n",
        "  mutable_list.append(10)\n",
        "  try:\n",
        "    immmutable_tuple += (10,)\n",
        "    print(\"Immutable tuple operation created a new tuple.\")\n",
        "  except Exception as e:\n",
        "    print(\"Error:\", e)\n",
        "\n",
        "my_list = [1, 2, 3]\n",
        "my_tuple = (4, 5, 6)\n",
        "\n",
        "modify_arguments(my_list, my_tuple)\n",
        "\n",
        "print(\"Modified List:\", my_list)\n",
        "print(\"Modified Tuple:\", my_tuple)"
      ],
      "metadata": {
        "colab": {
          "base_uri": "https://localhost:8080/"
        },
        "id": "AwAGeO4bZ7e-",
        "outputId": "6c3fc82e-bdd8-4c71-8fe0-29f584303182"
      },
      "execution_count": null,
      "outputs": [
        {
          "output_type": "stream",
          "name": "stdout",
          "text": [
            "Immutable tuple operation created a new tuple.\n",
            "Modified List: [1, 2, 3, 10]\n",
            "Modified Tuple: (4, 5, 6)\n"
          ]
        }
      ]
    },
    {
      "cell_type": "markdown",
      "source": [
        "7. **Write a program that performs basic arithmetic operations on two user-input numbers.**"
      ],
      "metadata": {
        "id": "EcVwwJEMfgmk"
      }
    },
    {
      "cell_type": "code",
      "source": [
        "num1 = float(input(\"Enter the first number: \"))\n",
        "num2 = float(input(\"Enter the second number: \"))\n",
        "\n",
        "addition = num1 + num2\n",
        "subtraction = num1 - num2\n",
        "multiplication = num1 * num2\n",
        "division = num1 / num2\n",
        "\n",
        "if num2 != 0:\n",
        "    division = num1 / num2\n",
        "else:\n",
        "    division = \"Undefined (division by zero)\"\n",
        "\n",
        "# Display results\n",
        "print(\"Addition:\", addition)\n",
        "print(\"Subtraction:\", subtraction)\n",
        "print(\"Multiplication:\", multiplication)\n",
        "print(\"Division:\", division)"
      ],
      "metadata": {
        "colab": {
          "base_uri": "https://localhost:8080/"
        },
        "id": "ZQBY2HXPf20G",
        "outputId": "9217e793-6c8d-4953-c29c-d51af73f8227"
      },
      "execution_count": null,
      "outputs": [
        {
          "output_type": "stream",
          "name": "stdout",
          "text": [
            "Enter the first number: 5\n",
            "Enter the second number: 1\n",
            "Addition: 6.0\n",
            "Subtraction: 4.0\n",
            "Multiplication: 5.0\n",
            "Division: 5.0\n"
          ]
        }
      ]
    },
    {
      "cell_type": "markdown",
      "source": [
        "8. **Write a program to demonstrate the use of logical operators.**"
      ],
      "metadata": {
        "id": "PoZ0LQCMg50l"
      }
    },
    {
      "cell_type": "code",
      "source": [
        "a = True\n",
        "b = False\n",
        "print(\"a and b:\", a and b)\n",
        "print(\"a or b:\", a or b)\n",
        "print(\"not a:\", not a)"
      ],
      "metadata": {
        "colab": {
          "base_uri": "https://localhost:8080/"
        },
        "id": "OEYtbn52hBE9",
        "outputId": "206dc4d6-ac92-4da1-893f-64519a7946a6"
      },
      "execution_count": null,
      "outputs": [
        {
          "output_type": "stream",
          "name": "stdout",
          "text": [
            "a and b: False\n",
            "a or b: True\n",
            "not a: False\n"
          ]
        }
      ]
    },
    {
      "cell_type": "markdown",
      "source": [
        "9. **Write a Python program to convert user input from string to integer, float, and boolean types.**"
      ],
      "metadata": {
        "id": "qG7p8piKiDVW"
      }
    },
    {
      "cell_type": "code",
      "source": [
        "user_input = input(\"Enter a value: \")\n",
        "\n",
        "try:\n",
        "    print(\"Integer:\", int(user_input))\n",
        "except ValueError:\n",
        "    print(\"Invalid integer input.\")\n",
        "\n",
        "try:\n",
        "    print(\"Float:\", float(user_input))\n",
        "except ValueError:\n",
        "    print(\"Invalid float input.\")\n",
        "\n",
        "try:\n",
        "    print(\"Boolean:\", bool(user_input))\n",
        "except ValueError: # Added except block\n",
        "    print(\"Invalid boolean input.\")"
      ],
      "metadata": {
        "colab": {
          "base_uri": "https://localhost:8080/"
        },
        "id": "osR2PP8NiKI1",
        "outputId": "083a9664-91e6-4ccb-ab5d-16d85f40a379"
      },
      "execution_count": null,
      "outputs": [
        {
          "output_type": "stream",
          "name": "stdout",
          "text": [
            "Enter a value: 5\n",
            "Integer: 5\n",
            "Float: 5.0\n",
            "Boolean: True\n"
          ]
        }
      ]
    },
    {
      "cell_type": "markdown",
      "source": [
        "10. **Write code to demonstrate type casting with list elements.**"
      ],
      "metadata": {
        "id": "QPhZi4womVNF"
      }
    },
    {
      "cell_type": "code",
      "source": [
        "my_list = ['1','2.5', 'True', 'hello']\n",
        "\n",
        "print(\"string to int:\", int(my_list[0]))\n",
        "print(\"string to float:\", float(my_list[1]))\n",
        "print(\"string to bool:\", bool(my_list[2]))\n",
        "try:\n",
        "  int(my_list[3])\n",
        "except ValueError as e:\n",
        "  print(\"Error:\", e)"
      ],
      "metadata": {
        "colab": {
          "base_uri": "https://localhost:8080/"
        },
        "id": "8aYGV--Tmc9P",
        "outputId": "77e60861-15ad-4dc1-aaf7-6f52c2f1f979"
      },
      "execution_count": null,
      "outputs": [
        {
          "output_type": "stream",
          "name": "stdout",
          "text": [
            "string to int: 1\n",
            "string to float: 2.5\n",
            "string to bool: True\n",
            "Error: invalid literal for int() with base 10: 'hello'\n"
          ]
        }
      ]
    },
    {
      "cell_type": "markdown",
      "source": [
        "11. **Write a program that checks if a number is positive, negative, or zero.**"
      ],
      "metadata": {
        "id": "LlboueBin2Ik"
      }
    },
    {
      "cell_type": "code",
      "source": [
        "num = float(input(\"Enter a number: \"))\n",
        "\n",
        "if num > 0:\n",
        "    print(\"Positive\")\n",
        "elif num <0:\n",
        "  print(\"Negative\")\n",
        "else:\n",
        "  print(\"Zero\")"
      ],
      "metadata": {
        "colab": {
          "base_uri": "https://localhost:8080/"
        },
        "id": "TuVRqZDgn8at",
        "outputId": "5c42ebe0-1a23-4150-bdf3-03c02458160b"
      },
      "execution_count": null,
      "outputs": [
        {
          "output_type": "stream",
          "name": "stdout",
          "text": [
            "Enter a number: 6\n",
            "Positive\n"
          ]
        }
      ]
    },
    {
      "cell_type": "markdown",
      "source": [
        "12. **Write a for loop to print numbers from 1 to 10.**"
      ],
      "metadata": {
        "id": "eueHotMqorO2"
      }
    },
    {
      "cell_type": "code",
      "source": [
        "for i in range(1, 11):\n",
        "  print(i)"
      ],
      "metadata": {
        "colab": {
          "base_uri": "https://localhost:8080/"
        },
        "id": "TR6kbMOqo0dw",
        "outputId": "756a8652-a669-4570-bf37-08afefdfe04c"
      },
      "execution_count": null,
      "outputs": [
        {
          "output_type": "stream",
          "name": "stdout",
          "text": [
            "1\n",
            "2\n",
            "3\n",
            "4\n",
            "5\n",
            "6\n",
            "7\n",
            "8\n",
            "9\n",
            "10\n"
          ]
        }
      ]
    },
    {
      "cell_type": "markdown",
      "source": [
        "13. **Write a Python program to find the sum of all even numbers between 1 and 50.**"
      ],
      "metadata": {
        "id": "M6sLCTjFpZFc"
      }
    },
    {
      "cell_type": "code",
      "source": [
        "sum_even = sum(i for i in range(1, 51) if i % 2 == 0)\n",
        "print(\"sum of even numbers:\", sum_even)"
      ],
      "metadata": {
        "colab": {
          "base_uri": "https://localhost:8080/"
        },
        "id": "iCI0cKfNpfyE",
        "outputId": "947f2258-3d60-4a62-dddc-67f87385c923"
      },
      "execution_count": null,
      "outputs": [
        {
          "output_type": "stream",
          "name": "stdout",
          "text": [
            "sum of even numbers: 650\n"
          ]
        }
      ]
    },
    {
      "cell_type": "markdown",
      "source": [
        "14. **Write a program to reverse a string using a while loop.**"
      ],
      "metadata": {
        "id": "1H9F6hrkqDrU"
      }
    },
    {
      "cell_type": "code",
      "source": [
        "s = input(\"Enter a string: \")\n",
        "\n",
        "reversed_string = \"\"\n",
        "index = len(s) - 1\n",
        "\n",
        "while index >= 0:\n",
        "  reversed_string += s[index]\n",
        "  index -= 1\n",
        "\n",
        "print(\"Reversed string:\", reversed_string)"
      ],
      "metadata": {
        "colab": {
          "base_uri": "https://localhost:8080/"
        },
        "id": "5k84AFDZqIDs",
        "outputId": "d6670f46-cc6f-4696-abaf-a974f79e492d"
      },
      "execution_count": null,
      "outputs": [
        {
          "output_type": "stream",
          "name": "stdout",
          "text": [
            "Enter a string: 4\n",
            "Reversed string: 4\n"
          ]
        }
      ]
    },
    {
      "cell_type": "markdown",
      "source": [
        "15. **Write a Python program to calculate the factorial of a number provided by the user using a while loop.**"
      ],
      "metadata": {
        "id": "qL3e_DNkqfDI"
      }
    },
    {
      "cell_type": "code",
      "source": [
        "num = int(input(\"Enter a non-negative integer: \"))\n",
        "factorial = 1\n",
        "i = num\n",
        "while i > 0:\n",
        "  factorial *= i\n",
        "  i -= 1\n",
        "print(f\"The factorial of {num} is {factorial}.\")"
      ],
      "metadata": {
        "colab": {
          "base_uri": "https://localhost:8080/"
        },
        "id": "blc8EI1CqkXd",
        "outputId": "88504d72-2cc4-4c2c-f6b8-e0c945cbb712"
      },
      "execution_count": null,
      "outputs": [
        {
          "output_type": "stream",
          "name": "stdout",
          "text": [
            "Enter a non-negative integer: 9\n",
            "The factorial of 9 is 362880.\n"
          ]
        }
      ]
    }
  ]
}